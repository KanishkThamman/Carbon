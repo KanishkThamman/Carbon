{
 "cells": [
  {
   "cell_type": "markdown",
   "metadata": {},
   "source": [
    "## Carbon Majors Emissions"
   ]
  },
  {
   "cell_type": "code",
   "execution_count": 14,
   "metadata": {},
   "outputs": [
    {
     "name": "stdout",
     "output_type": "stream",
     "text": [
      "^C\n"
     ]
    }
   ],
   "source": [
    "# importing the data from kaggle.. make sure you have kaggle.json file in your home directory\n",
    "\n",
    "!kaggle datasets download -d joebeachcapital/carbon-majors-emissions-data --unzip"
   ]
  },
  {
   "cell_type": "code",
   "execution_count": 15,
   "metadata": {},
   "outputs": [],
   "source": [
    "# my import statements\n",
    "import pandas as pd\n",
    "import numpy as np\n",
    "import matplotlib.pyplot as plt\n",
    "import seaborn as sns\n"
   ]
  },
  {
   "cell_type": "code",
   "execution_count": 30,
   "metadata": {},
   "outputs": [],
   "source": [
    "# using medium granularity data and pandas to read the data\n",
    "df = pd.read_csv('emissions_medium_granularity.csv')\n",
    "\n"
   ]
  },
  {
   "cell_type": "code",
   "execution_count": 17,
   "metadata": {},
   "outputs": [
    {
     "data": {
      "text/html": [
       "<div>\n",
       "<style scoped>\n",
       "    .dataframe tbody tr th:only-of-type {\n",
       "        vertical-align: middle;\n",
       "    }\n",
       "\n",
       "    .dataframe tbody tr th {\n",
       "        vertical-align: top;\n",
       "    }\n",
       "\n",
       "    .dataframe thead th {\n",
       "        text-align: right;\n",
       "    }\n",
       "</style>\n",
       "<table border=\"1\" class=\"dataframe\">\n",
       "  <thead>\n",
       "    <tr style=\"text-align: right;\">\n",
       "      <th></th>\n",
       "      <th>year</th>\n",
       "      <th>parent_entity</th>\n",
       "      <th>parent_type</th>\n",
       "      <th>commodity</th>\n",
       "      <th>production_value</th>\n",
       "      <th>production_unit</th>\n",
       "      <th>total_emissions_MtCO2e</th>\n",
       "    </tr>\n",
       "  </thead>\n",
       "  <tbody>\n",
       "    <tr>\n",
       "      <th>0</th>\n",
       "      <td>1962</td>\n",
       "      <td>Abu Dhabi National Oil Company</td>\n",
       "      <td>State-owned Entity</td>\n",
       "      <td>Oil &amp; NGL</td>\n",
       "      <td>0.91250</td>\n",
       "      <td>Million bbl/yr</td>\n",
       "      <td>0.363885</td>\n",
       "    </tr>\n",
       "    <tr>\n",
       "      <th>1</th>\n",
       "      <td>1962</td>\n",
       "      <td>Abu Dhabi National Oil Company</td>\n",
       "      <td>State-owned Entity</td>\n",
       "      <td>Natural Gas</td>\n",
       "      <td>1.84325</td>\n",
       "      <td>Bcf/yr</td>\n",
       "      <td>0.134355</td>\n",
       "    </tr>\n",
       "    <tr>\n",
       "      <th>2</th>\n",
       "      <td>1963</td>\n",
       "      <td>Abu Dhabi National Oil Company</td>\n",
       "      <td>State-owned Entity</td>\n",
       "      <td>Oil &amp; NGL</td>\n",
       "      <td>1.82500</td>\n",
       "      <td>Million bbl/yr</td>\n",
       "      <td>0.727770</td>\n",
       "    </tr>\n",
       "    <tr>\n",
       "      <th>3</th>\n",
       "      <td>1963</td>\n",
       "      <td>Abu Dhabi National Oil Company</td>\n",
       "      <td>State-owned Entity</td>\n",
       "      <td>Natural Gas</td>\n",
       "      <td>4.42380</td>\n",
       "      <td>Bcf/yr</td>\n",
       "      <td>0.322453</td>\n",
       "    </tr>\n",
       "    <tr>\n",
       "      <th>4</th>\n",
       "      <td>1964</td>\n",
       "      <td>Abu Dhabi National Oil Company</td>\n",
       "      <td>State-owned Entity</td>\n",
       "      <td>Oil &amp; NGL</td>\n",
       "      <td>7.30000</td>\n",
       "      <td>Million bbl/yr</td>\n",
       "      <td>2.911079</td>\n",
       "    </tr>\n",
       "  </tbody>\n",
       "</table>\n",
       "</div>"
      ],
      "text/plain": [
       "   year                   parent_entity         parent_type    commodity  \\\n",
       "0  1962  Abu Dhabi National Oil Company  State-owned Entity    Oil & NGL   \n",
       "1  1962  Abu Dhabi National Oil Company  State-owned Entity  Natural Gas   \n",
       "2  1963  Abu Dhabi National Oil Company  State-owned Entity    Oil & NGL   \n",
       "3  1963  Abu Dhabi National Oil Company  State-owned Entity  Natural Gas   \n",
       "4  1964  Abu Dhabi National Oil Company  State-owned Entity    Oil & NGL   \n",
       "\n",
       "   production_value production_unit  total_emissions_MtCO2e  \n",
       "0           0.91250  Million bbl/yr                0.363885  \n",
       "1           1.84325          Bcf/yr                0.134355  \n",
       "2           1.82500  Million bbl/yr                0.727770  \n",
       "3           4.42380          Bcf/yr                0.322453  \n",
       "4           7.30000  Million bbl/yr                2.911079  "
      ]
     },
     "execution_count": 17,
     "metadata": {},
     "output_type": "execute_result"
    }
   ],
   "source": [
    "df.head()"
   ]
  },
  {
   "cell_type": "code",
   "execution_count": 18,
   "metadata": {},
   "outputs": [
    {
     "name": "stdout",
     "output_type": "stream",
     "text": [
      "<class 'pandas.core.frame.DataFrame'>\n",
      "RangeIndex: 12551 entries, 0 to 12550\n",
      "Data columns (total 7 columns):\n",
      " #   Column                  Non-Null Count  Dtype  \n",
      "---  ------                  --------------  -----  \n",
      " 0   year                    12551 non-null  int64  \n",
      " 1   parent_entity           12551 non-null  object \n",
      " 2   parent_type             12551 non-null  object \n",
      " 3   commodity               12551 non-null  object \n",
      " 4   production_value        12551 non-null  float64\n",
      " 5   production_unit         12551 non-null  object \n",
      " 6   total_emissions_MtCO2e  12551 non-null  float64\n",
      "dtypes: float64(2), int64(1), object(4)\n",
      "memory usage: 686.5+ KB\n"
     ]
    }
   ],
   "source": [
    "df.info()"
   ]
  },
  {
   "cell_type": "code",
   "execution_count": 19,
   "metadata": {},
   "outputs": [
    {
     "data": {
      "text/plain": [
       "production_unit\n",
       "Million tonnes/yr     5103\n",
       "Million bbl/yr        3733\n",
       "Bcf/yr                3452\n",
       "Million Tonnes CO2     263\n",
       "Name: count, dtype: int64"
      ]
     },
     "execution_count": 19,
     "metadata": {},
     "output_type": "execute_result"
    }
   ],
   "source": [
    "df['production_unit'].value_counts()"
   ]
  },
  {
   "cell_type": "code",
   "execution_count": 20,
   "metadata": {},
   "outputs": [
    {
     "data": {
      "text/html": [
       "<div>\n",
       "<style scoped>\n",
       "    .dataframe tbody tr th:only-of-type {\n",
       "        vertical-align: middle;\n",
       "    }\n",
       "\n",
       "    .dataframe tbody tr th {\n",
       "        vertical-align: top;\n",
       "    }\n",
       "\n",
       "    .dataframe thead th {\n",
       "        text-align: right;\n",
       "    }\n",
       "</style>\n",
       "<table border=\"1\" class=\"dataframe\">\n",
       "  <thead>\n",
       "    <tr style=\"text-align: right;\">\n",
       "      <th></th>\n",
       "      <th>year</th>\n",
       "      <th>production_value</th>\n",
       "      <th>total_emissions_MtCO2e</th>\n",
       "    </tr>\n",
       "  </thead>\n",
       "  <tbody>\n",
       "    <tr>\n",
       "      <th>count</th>\n",
       "      <td>12551.000000</td>\n",
       "      <td>12551.000000</td>\n",
       "      <td>12551.000000</td>\n",
       "    </tr>\n",
       "    <tr>\n",
       "      <th>mean</th>\n",
       "      <td>1987.148116</td>\n",
       "      <td>412.677443</td>\n",
       "      <td>113.205850</td>\n",
       "    </tr>\n",
       "    <tr>\n",
       "      <th>std</th>\n",
       "      <td>29.202455</td>\n",
       "      <td>1357.538128</td>\n",
       "      <td>329.789848</td>\n",
       "    </tr>\n",
       "    <tr>\n",
       "      <th>min</th>\n",
       "      <td>1854.000000</td>\n",
       "      <td>0.004398</td>\n",
       "      <td>0.000321</td>\n",
       "    </tr>\n",
       "    <tr>\n",
       "      <th>25%</th>\n",
       "      <td>1973.000000</td>\n",
       "      <td>10.601353</td>\n",
       "      <td>8.785294</td>\n",
       "    </tr>\n",
       "    <tr>\n",
       "      <th>50%</th>\n",
       "      <td>1994.000000</td>\n",
       "      <td>63.203536</td>\n",
       "      <td>33.058688</td>\n",
       "    </tr>\n",
       "    <tr>\n",
       "      <th>75%</th>\n",
       "      <td>2009.000000</td>\n",
       "      <td>320.664764</td>\n",
       "      <td>102.154596</td>\n",
       "    </tr>\n",
       "    <tr>\n",
       "      <th>max</th>\n",
       "      <td>2022.000000</td>\n",
       "      <td>27192.000000</td>\n",
       "      <td>8646.905949</td>\n",
       "    </tr>\n",
       "  </tbody>\n",
       "</table>\n",
       "</div>"
      ],
      "text/plain": [
       "               year  production_value  total_emissions_MtCO2e\n",
       "count  12551.000000      12551.000000            12551.000000\n",
       "mean    1987.148116        412.677443              113.205850\n",
       "std       29.202455       1357.538128              329.789848\n",
       "min     1854.000000          0.004398                0.000321\n",
       "25%     1973.000000         10.601353                8.785294\n",
       "50%     1994.000000         63.203536               33.058688\n",
       "75%     2009.000000        320.664764              102.154596\n",
       "max     2022.000000      27192.000000             8646.905949"
      ]
     },
     "execution_count": 20,
     "metadata": {},
     "output_type": "execute_result"
    }
   ],
   "source": [
    "df.describe()"
   ]
  },
  {
   "cell_type": "markdown",
   "metadata": {},
   "source": [
    "# Time for some Data Pre Processing"
   ]
  },
  {
   "cell_type": "code",
   "execution_count": 21,
   "metadata": {},
   "outputs": [
    {
     "data": {
      "text/plain": [
       "production_unit\n",
       "Million tonnes/yr     5103\n",
       "Million bbl/yr        3733\n",
       "Bcf/yr                3452\n",
       "Million Tonnes CO2     263\n",
       "Name: count, dtype: int64"
      ]
     },
     "execution_count": 21,
     "metadata": {},
     "output_type": "execute_result"
    }
   ],
   "source": [
    "# the production unit is not the same metric as some of the other production values\n",
    "\n",
    "df['production_unit'].value_counts()\n"
   ]
  },
  {
   "cell_type": "code",
   "execution_count": 31,
   "metadata": {},
   "outputs": [
    {
     "name": "stdout",
     "output_type": "stream",
     "text": [
      "       year      parent_entity             parent_type            commodity  \\\n",
      "122    2012  Adani Enterprises  Investor-owned Company  Sub-Bituminous Coal   \n",
      "123    2013  Adani Enterprises  Investor-owned Company  Sub-Bituminous Coal   \n",
      "124    2014  Adani Enterprises  Investor-owned Company  Sub-Bituminous Coal   \n",
      "125    2015  Adani Enterprises  Investor-owned Company  Sub-Bituminous Coal   \n",
      "126    2016  Adani Enterprises  Investor-owned Company  Sub-Bituminous Coal   \n",
      "...     ...                ...                     ...                  ...   \n",
      "12409  2018    Wolverine Fuels  Investor-owned Company      Bituminous Coal   \n",
      "12410  2019    Wolverine Fuels  Investor-owned Company      Bituminous Coal   \n",
      "12411  2020    Wolverine Fuels  Investor-owned Company      Bituminous Coal   \n",
      "12412  2021    Wolverine Fuels  Investor-owned Company      Bituminous Coal   \n",
      "12413  2022    Wolverine Fuels  Investor-owned Company      Bituminous Coal   \n",
      "\n",
      "       production_value    production_unit  total_emissions_MtCO2e  \n",
      "122            4.000000  Million tonnes/yr                8.076362  \n",
      "123            4.090000  Million tonnes/yr                8.258080  \n",
      "124            7.920000  Million tonnes/yr               15.991196  \n",
      "125           10.360000  Million tonnes/yr               20.917777  \n",
      "126           11.450000  Million tonnes/yr               23.118586  \n",
      "...                 ...                ...                     ...  \n",
      "12409          8.216456  Million tonnes/yr               22.300604  \n",
      "12410          7.898938  Million tonnes/yr               21.438816  \n",
      "12411          7.390002  Million tonnes/yr               20.057494  \n",
      "12412          6.209743  Million tonnes/yr               16.854106  \n",
      "12413          5.828721  Million tonnes/yr               15.819960  \n",
      "\n",
      "[5103 rows x 7 columns]\n"
     ]
    }
   ],
   "source": [
    "# Drop rows where production_unit is not 'Million tonnes/yr'\n",
    "df = df[df['production_unit'] == 'Million tonnes/yr']\n",
    "\n",
    "# Display the updated DataFrame\n",
    "print(df)\n"
   ]
  },
  {
   "cell_type": "code",
   "execution_count": 27,
   "metadata": {},
   "outputs": [
    {
     "data": {
      "text/html": [
       "<div>\n",
       "<style scoped>\n",
       "    .dataframe tbody tr th:only-of-type {\n",
       "        vertical-align: middle;\n",
       "    }\n",
       "\n",
       "    .dataframe tbody tr th {\n",
       "        vertical-align: top;\n",
       "    }\n",
       "\n",
       "    .dataframe thead th {\n",
       "        text-align: right;\n",
       "    }\n",
       "</style>\n",
       "<table border=\"1\" class=\"dataframe\">\n",
       "  <thead>\n",
       "    <tr style=\"text-align: right;\">\n",
       "      <th></th>\n",
       "      <th>production_value</th>\n",
       "    </tr>\n",
       "  </thead>\n",
       "  <tbody>\n",
       "    <tr>\n",
       "      <th>0</th>\n",
       "      <td>1.360</td>\n",
       "    </tr>\n",
       "    <tr>\n",
       "      <th>1</th>\n",
       "      <td>5.935</td>\n",
       "    </tr>\n",
       "    <tr>\n",
       "      <th>2</th>\n",
       "      <td>100.000</td>\n",
       "    </tr>\n",
       "  </tbody>\n",
       "</table>\n",
       "</div>"
      ],
      "text/plain": [
       "   production_value\n",
       "0             1.360\n",
       "1             5.935\n",
       "2           100.000"
      ]
     },
     "execution_count": 27,
     "metadata": {},
     "output_type": "execute_result"
    }
   ],
   "source": []
  }
 ],
 "metadata": {
  "kernelspec": {
   "display_name": "Python 3",
   "language": "python",
   "name": "python3"
  },
  "language_info": {
   "codemirror_mode": {
    "name": "ipython",
    "version": 3
   },
   "file_extension": ".py",
   "mimetype": "text/x-python",
   "name": "python",
   "nbconvert_exporter": "python",
   "pygments_lexer": "ipython3",
   "version": "3.11.3"
  }
 },
 "nbformat": 4,
 "nbformat_minor": 2
}
